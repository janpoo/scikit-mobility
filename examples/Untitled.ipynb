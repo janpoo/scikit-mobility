{
 "cells": [
  {
   "cell_type": "code",
   "execution_count": 6,
   "id": "df7a1631",
   "metadata": {},
   "outputs": [
    {
     "name": "stdout",
     "output_type": "stream",
     "text": [
      "Collecting scikit-mobility\n",
      "  Downloading scikit_mobility-1.3.1-py3-none-any.whl (167 kB)\n",
      "\u001b[K     |████████████████████████████████| 167 kB 328 kB/s eta 0:00:01\n",
      "\u001b[?25hCollecting powerlaw<2.0.0,>=1.4.6\n",
      "  Downloading powerlaw-1.5-py3-none-any.whl (24 kB)\n",
      "Collecting python-igraph<0.10.0,>=0.9.1\n",
      "  Downloading python_igraph-0.9.11-py3-none-any.whl (9.1 kB)\n",
      "Collecting geopandas<0.11.0,>=0.10.2\n",
      "  Downloading geopandas-0.10.2-py2.py3-none-any.whl (1.0 MB)\n",
      "\u001b[K     |████████████████████████████████| 1.0 MB 71 kB/s eta 0:00:01\n",
      "\u001b[?25hRequirement already satisfied: scikit-learn in /opt/conda/lib/python3.9/site-packages (from scikit-mobility) (1.0.2)\n",
      "Collecting folium==0.12.1.post1\n",
      "  Downloading folium-0.12.1.post1-py2.py3-none-any.whl (95 kB)\n",
      "\u001b[K     |████████████████████████████████| 95 kB 48 kB/s eta 0:00:01\n",
      "\u001b[?25hCollecting geojson<3.0.0,>=2.5.0\n",
      "  Downloading geojson-2.5.0-py2.py3-none-any.whl (14 kB)\n",
      "Requirement already satisfied: tqdm<5.0.0,>=4.60.0 in /opt/conda/lib/python3.9/site-packages (from scikit-mobility) (4.64.0)\n",
      "Collecting pooch<2.0.0,>=1.6.0\n",
      "  Downloading pooch-1.6.0-py3-none-any.whl (56 kB)\n",
      "\u001b[K     |████████████████████████████████| 56 kB 92 kB/s eta 0:00:01\n",
      "\u001b[?25hCollecting h3<4.0.0,>=3.7.3\n",
      "  Downloading h3-3.7.6-cp39-cp39-manylinux_2_17_x86_64.manylinux2014_x86_64.whl (1.1 MB)\n",
      "\u001b[K     |████████████████████████████████| 1.1 MB 34 kB/s eta 0:00:01\n",
      "\u001b[?25hRequirement already satisfied: requests<3.0.0,>=2.25.1 in /opt/conda/lib/python3.9/site-packages (from scikit-mobility) (2.27.1)\n",
      "Requirement already satisfied: statsmodels<0.14.0,>=0.13.0 in /opt/conda/lib/python3.9/site-packages (from scikit-mobility) (0.13.2)\n",
      "Requirement already satisfied: pandas<2.0.0,>=1.1.5 in /opt/conda/lib/python3.9/site-packages (from scikit-mobility) (1.4.2)\n",
      "Requirement already satisfied: numpy in /opt/conda/lib/python3.9/site-packages (from folium==0.12.1.post1->scikit-mobility) (1.21.5)\n",
      "Requirement already satisfied: branca>=0.3.0 in /opt/conda/lib/python3.9/site-packages (from folium==0.12.1.post1->scikit-mobility) (0.5.0)\n",
      "Requirement already satisfied: jinja2>=2.9 in /opt/conda/lib/python3.9/site-packages (from folium==0.12.1.post1->scikit-mobility) (2.11.3)\n",
      "Requirement already satisfied: pyproj>=2.2.0 in /opt/conda/lib/python3.9/site-packages (from geopandas<0.11.0,>=0.10.2->scikit-mobility) (3.4.0)\n",
      "Requirement already satisfied: fiona>=1.8 in /opt/conda/lib/python3.9/site-packages (from geopandas<0.11.0,>=0.10.2->scikit-mobility) (1.8.22)\n",
      "Requirement already satisfied: shapely>=1.6 in /opt/conda/lib/python3.9/site-packages (from geopandas<0.11.0,>=0.10.2->scikit-mobility) (1.8.5.post1)\n",
      "Requirement already satisfied: six>=1.7 in /opt/conda/lib/python3.9/site-packages (from fiona>=1.8->geopandas<0.11.0,>=0.10.2->scikit-mobility) (1.16.0)\n",
      "Requirement already satisfied: munch in /opt/conda/lib/python3.9/site-packages (from fiona>=1.8->geopandas<0.11.0,>=0.10.2->scikit-mobility) (2.5.0)\n",
      "Requirement already satisfied: click-plugins>=1.0 in /opt/conda/lib/python3.9/site-packages (from fiona>=1.8->geopandas<0.11.0,>=0.10.2->scikit-mobility) (1.1.1)\n",
      "Requirement already satisfied: attrs>=17 in /opt/conda/lib/python3.9/site-packages (from fiona>=1.8->geopandas<0.11.0,>=0.10.2->scikit-mobility) (21.4.0)\n",
      "Requirement already satisfied: click>=4.0 in /opt/conda/lib/python3.9/site-packages (from fiona>=1.8->geopandas<0.11.0,>=0.10.2->scikit-mobility) (8.0.4)\n",
      "Requirement already satisfied: certifi in /opt/conda/lib/python3.9/site-packages (from fiona>=1.8->geopandas<0.11.0,>=0.10.2->scikit-mobility) (2021.10.8)\n",
      "Requirement already satisfied: cligj>=0.5 in /opt/conda/lib/python3.9/site-packages (from fiona>=1.8->geopandas<0.11.0,>=0.10.2->scikit-mobility) (0.7.2)\n",
      "Requirement already satisfied: setuptools in /opt/conda/lib/python3.9/site-packages (from fiona>=1.8->geopandas<0.11.0,>=0.10.2->scikit-mobility) (61.2.0)\n",
      "Requirement already satisfied: MarkupSafe>=0.23 in /opt/conda/lib/python3.9/site-packages (from jinja2>=2.9->folium==0.12.1.post1->scikit-mobility) (2.0.1)\n",
      "Requirement already satisfied: python-dateutil>=2.8.1 in /opt/conda/lib/python3.9/site-packages (from pandas<2.0.0,>=1.1.5->scikit-mobility) (2.8.2)\n",
      "Requirement already satisfied: pytz>=2020.1 in /opt/conda/lib/python3.9/site-packages (from pandas<2.0.0,>=1.1.5->scikit-mobility) (2021.3)\n",
      "Requirement already satisfied: packaging>=20.0 in /opt/conda/lib/python3.9/site-packages (from pooch<2.0.0,>=1.6.0->scikit-mobility) (21.3)\n",
      "Requirement already satisfied: appdirs>=1.3.0 in /opt/conda/lib/python3.9/site-packages (from pooch<2.0.0,>=1.6.0->scikit-mobility) (1.4.4)\n",
      "Requirement already satisfied: pyparsing!=3.0.5,>=2.0.2 in /opt/conda/lib/python3.9/site-packages (from packaging>=20.0->pooch<2.0.0,>=1.6.0->scikit-mobility) (3.0.4)\n",
      "Requirement already satisfied: matplotlib in /opt/conda/lib/python3.9/site-packages (from powerlaw<2.0.0,>=1.4.6->scikit-mobility) (3.5.1)\n",
      "Requirement already satisfied: mpmath in /opt/conda/lib/python3.9/site-packages (from powerlaw<2.0.0,>=1.4.6->scikit-mobility) (1.2.1)\n",
      "Requirement already satisfied: scipy in /opt/conda/lib/python3.9/site-packages (from powerlaw<2.0.0,>=1.4.6->scikit-mobility) (1.7.3)\n",
      "Collecting igraph==0.9.11\n",
      "  Downloading igraph-0.9.11-cp39-cp39-manylinux_2_17_x86_64.manylinux2014_x86_64.whl (3.2 MB)\n",
      "\u001b[K     |████████████████████████████████| 3.2 MB 47 kB/s eta 0:00:01\n",
      "\u001b[?25hCollecting texttable>=1.6.2\n",
      "  Downloading texttable-1.6.7-py2.py3-none-any.whl (10 kB)\n",
      "Requirement already satisfied: urllib3<1.27,>=1.21.1 in /opt/conda/lib/python3.9/site-packages (from requests<3.0.0,>=2.25.1->scikit-mobility) (1.26.9)\n",
      "Requirement already satisfied: charset-normalizer~=2.0.0 in /opt/conda/lib/python3.9/site-packages (from requests<3.0.0,>=2.25.1->scikit-mobility) (2.0.4)\n",
      "Requirement already satisfied: idna<4,>=2.5 in /opt/conda/lib/python3.9/site-packages (from requests<3.0.0,>=2.25.1->scikit-mobility) (3.3)\n",
      "Requirement already satisfied: patsy>=0.5.2 in /opt/conda/lib/python3.9/site-packages (from statsmodels<0.14.0,>=0.13.0->scikit-mobility) (0.5.2)\n",
      "Requirement already satisfied: cycler>=0.10 in /opt/conda/lib/python3.9/site-packages (from matplotlib->powerlaw<2.0.0,>=1.4.6->scikit-mobility) (0.11.0)\n",
      "Requirement already satisfied: fonttools>=4.22.0 in /opt/conda/lib/python3.9/site-packages (from matplotlib->powerlaw<2.0.0,>=1.4.6->scikit-mobility) (4.25.0)\n",
      "Requirement already satisfied: kiwisolver>=1.0.1 in /opt/conda/lib/python3.9/site-packages (from matplotlib->powerlaw<2.0.0,>=1.4.6->scikit-mobility) (1.3.2)\n",
      "Requirement already satisfied: pillow>=6.2.0 in /opt/conda/lib/python3.9/site-packages (from matplotlib->powerlaw<2.0.0,>=1.4.6->scikit-mobility) (9.0.1)\n",
      "Requirement already satisfied: threadpoolctl>=2.0.0 in /opt/conda/lib/python3.9/site-packages (from scikit-learn->scikit-mobility) (2.2.0)\n",
      "Requirement already satisfied: joblib>=0.11 in /opt/conda/lib/python3.9/site-packages (from scikit-learn->scikit-mobility) (1.1.0)\n",
      "Installing collected packages: texttable, igraph, python-igraph, powerlaw, pooch, h3, geopandas, geojson, folium, scikit-mobility\n",
      "  Attempting uninstall: geopandas\n",
      "    Found existing installation: geopandas 0.12.1\n",
      "    Uninstalling geopandas-0.12.1:\n",
      "      Successfully uninstalled geopandas-0.12.1\n",
      "  Attempting uninstall: folium\n",
      "    Found existing installation: folium 0.13.0\n",
      "    Uninstalling folium-0.13.0:\n",
      "      Successfully uninstalled folium-0.13.0\n",
      "Successfully installed folium-0.12.1.post1 geojson-2.5.0 geopandas-0.10.2 h3-3.7.6 igraph-0.9.11 pooch-1.6.0 powerlaw-1.5 python-igraph-0.9.11 scikit-mobility-1.3.1 texttable-1.6.7\n",
      "\u001b[33mWARNING: Running pip as the 'root' user can result in broken permissions and conflicting behaviour with the system package manager. It is recommended to use a virtual environment instead: https://pip.pypa.io/warnings/venv\u001b[0m\n"
     ]
    }
   ],
   "source": [
    "!pip install scikit-mobility"
   ]
  },
  {
   "cell_type": "code",
   "execution_count": 3,
   "id": "b93f58e0",
   "metadata": {},
   "outputs": [
    {
     "name": "stdout",
     "output_type": "stream",
     "text": [
      "ERROR: unknown command \"upgrade\"\r\n"
     ]
    }
   ],
   "source": [
    "!pip upgrade"
   ]
  },
  {
   "cell_type": "code",
   "execution_count": 5,
   "id": "e994f1af",
   "metadata": {},
   "outputs": [
    {
     "name": "stdout",
     "output_type": "stream",
     "text": [
      "\r\n",
      "Usage:   \r\n",
      "  pip3 <command> [options]\r\n",
      "\r\n",
      "Commands:\r\n",
      "  install                     Install packages.\r\n",
      "  download                    Download packages.\r\n",
      "  uninstall                   Uninstall packages.\r\n",
      "  freeze                      Output installed packages in requirements format.\r\n",
      "  list                        List installed packages.\r\n",
      "  show                        Show information about installed packages.\r\n",
      "  check                       Verify installed packages have compatible dependencies.\r\n",
      "  config                      Manage local and global configuration.\r\n",
      "  search                      Search PyPI for packages.\r\n",
      "  cache                       Inspect and manage pip's wheel cache.\r\n",
      "  index                       Inspect information available from package indexes.\r\n",
      "  wheel                       Build wheels from your requirements.\r\n",
      "  hash                        Compute hashes of package archives.\r\n",
      "  completion                  A helper command used for command completion.\r\n",
      "  debug                       Show information useful for debugging.\r\n",
      "  help                        Show help for commands.\r\n",
      "\r\n",
      "General Options:\r\n",
      "  -h, --help                  Show help.\r\n",
      "  --isolated                  Run pip in an isolated mode, ignoring\r\n",
      "                              environment variables and user configuration.\r\n",
      "  -v, --verbose               Give more output. Option is additive, and can be\r\n",
      "                              used up to 3 times.\r\n",
      "  -V, --version               Show version and exit.\r\n",
      "  -q, --quiet                 Give less output. Option is additive, and can be\r\n",
      "                              used up to 3 times (corresponding to WARNING,\r\n",
      "                              ERROR, and CRITICAL logging levels).\r\n",
      "  --log <path>                Path to a verbose appending log.\r\n",
      "  --no-input                  Disable prompting for input.\r\n",
      "  --proxy <proxy>             Specify a proxy in the form\r\n",
      "                              [user:passwd@]proxy.server:port.\r\n",
      "  --retries <retries>         Maximum number of retries each connection should\r\n",
      "                              attempt (default 5 times).\r\n",
      "  --timeout <sec>             Set the socket timeout (default 15 seconds).\r\n",
      "  --exists-action <action>    Default action when a path already exists:\r\n",
      "                              (s)witch, (i)gnore, (w)ipe, (b)ackup, (a)bort.\r\n",
      "  --trusted-host <hostname>   Mark this host or host:port pair as trusted,\r\n",
      "                              even though it does not have valid or any HTTPS.\r\n",
      "  --cert <path>               Path to PEM-encoded CA certificate bundle. If\r\n",
      "                              provided, overrides the default. See 'SSL\r\n",
      "                              Certificate Verification' in pip documentation\r\n",
      "                              for more information.\r\n",
      "  --client-cert <path>        Path to SSL client certificate, a single file\r\n",
      "                              containing the private key and the certificate\r\n",
      "                              in PEM format.\r\n",
      "  --cache-dir <dir>           Store the cache data in <dir>.\r\n",
      "  --no-cache-dir              Disable the cache.\r\n",
      "  --disable-pip-version-check\r\n",
      "                              Don't periodically check PyPI to determine\r\n",
      "                              whether a new version of pip is available for\r\n",
      "                              download. Implied with --no-index.\r\n",
      "  --no-color                  Suppress colored output.\r\n",
      "  --no-python-version-warning\r\n",
      "                              Silence deprecation warnings for upcoming\r\n",
      "                              unsupported Pythons.\r\n",
      "  --use-feature <feature>     Enable new functionality, that may be backward\r\n",
      "                              incompatible.\r\n",
      "  --use-deprecated <feature>  Enable deprecated functionality, that will be\r\n",
      "                              removed in the future.\r\n"
     ]
    }
   ],
   "source": [
    "!pip3 --help"
   ]
  },
  {
   "cell_type": "code",
   "execution_count": null,
   "id": "8e98e4e6",
   "metadata": {},
   "outputs": [],
   "source": []
  }
 ],
 "metadata": {
  "kernelspec": {
   "display_name": "Python 3 (ipykernel)",
   "language": "python",
   "name": "python3"
  },
  "language_info": {
   "codemirror_mode": {
    "name": "ipython",
    "version": 3
   },
   "file_extension": ".py",
   "mimetype": "text/x-python",
   "name": "python",
   "nbconvert_exporter": "python",
   "pygments_lexer": "ipython3",
   "version": "3.9.12"
  }
 },
 "nbformat": 4,
 "nbformat_minor": 5
}
